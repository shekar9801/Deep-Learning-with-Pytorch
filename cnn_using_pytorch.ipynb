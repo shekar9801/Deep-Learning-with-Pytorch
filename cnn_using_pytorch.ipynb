{
  "nbformat": 4,
  "nbformat_minor": 0,
  "metadata": {
    "colab": {
      "provenance": [],
      "gpuType": "T4",
      "include_colab_link": true
    },
    "kernelspec": {
      "name": "python3",
      "display_name": "Python 3"
    },
    "language_info": {
      "name": "python"
    },
    "accelerator": "GPU"
  },
  "cells": [
    {
      "cell_type": "markdown",
      "metadata": {
        "id": "view-in-github",
        "colab_type": "text"
      },
      "source": [
        "<a href=\"https://colab.research.google.com/github/shekar9801/Deep-Learning-with-Pytorch/blob/main/cnn_using_pytorch.ipynb\" target=\"_parent\"><img src=\"https://colab.research.google.com/assets/colab-badge.svg\" alt=\"Open In Colab\"/></a>"
      ]
    },
    {
      "cell_type": "code",
      "execution_count": 1,
      "metadata": {
        "id": "3srtLvtKYGjM"
      },
      "outputs": [],
      "source": [
        "import torch\n",
        "import torch.nn as nn\n",
        "import torch.nn.functional as F\n",
        "import torch.optim as optim\n",
        "from torch.utils.data import DataLoader\n",
        "from torchvision import datasets, transforms\n",
        "from torchvision.utils import make_grid\n",
        "\n",
        "import numpy as np\n",
        "import pandas as pd\n",
        "import matplotlib.pyplot as plt\n",
        "from sklearn.metrics import confusion_matrix\n",
        "import seaborn as sns\n",
        "%matplotlib inline"
      ]
    },
    {
      "cell_type": "code",
      "source": [
        "# Convert MNIST Images files into a tensor of 4-dimension(Height, widht, channels)\n",
        "\n",
        "transform = transforms.ToTensor()"
      ],
      "metadata": {
        "id": "ShDAS4TCYfGv"
      },
      "execution_count": 2,
      "outputs": []
    },
    {
      "cell_type": "code",
      "source": [
        "train_data = datasets.MNIST(root='data', train=True, download=True, transform=transform)"
      ],
      "metadata": {
        "id": "J4QvOuqOZho5",
        "colab": {
          "base_uri": "https://localhost:8080/"
        },
        "outputId": "727b4a0c-963f-4bb3-bcdf-198e7c8b8ee1"
      },
      "execution_count": 3,
      "outputs": [
        {
          "output_type": "stream",
          "name": "stderr",
          "text": [
            "100%|██████████| 9.91M/9.91M [00:00<00:00, 18.9MB/s]\n",
            "100%|██████████| 28.9k/28.9k [00:00<00:00, 507kB/s]\n",
            "100%|██████████| 1.65M/1.65M [00:00<00:00, 4.66MB/s]\n",
            "100%|██████████| 4.54k/4.54k [00:00<00:00, 5.55MB/s]\n"
          ]
        }
      ]
    },
    {
      "cell_type": "code",
      "source": [
        "test_data = datasets.MNIST(root='data', train=False, download=True, transform=transform)"
      ],
      "metadata": {
        "id": "6Q644ZQvZ2pR"
      },
      "execution_count": 4,
      "outputs": []
    },
    {
      "cell_type": "code",
      "source": [
        "train_data"
      ],
      "metadata": {
        "colab": {
          "base_uri": "https://localhost:8080/"
        },
        "id": "PcrDRPkMaITP",
        "outputId": "9346bccf-a0ba-4f72-c86e-4db528ea2443"
      },
      "execution_count": 5,
      "outputs": [
        {
          "output_type": "execute_result",
          "data": {
            "text/plain": [
              "Dataset MNIST\n",
              "    Number of datapoints: 60000\n",
              "    Root location: data\n",
              "    Split: Train\n",
              "    StandardTransform\n",
              "Transform: ToTensor()"
            ]
          },
          "metadata": {},
          "execution_count": 5
        }
      ]
    },
    {
      "cell_type": "code",
      "source": [
        "test_data"
      ],
      "metadata": {
        "colab": {
          "base_uri": "https://localhost:8080/"
        },
        "id": "zKzGRIi5aKoO",
        "outputId": "869ef7ee-fc40-40dd-ae5c-c7d7596e8007"
      },
      "execution_count": 6,
      "outputs": [
        {
          "output_type": "execute_result",
          "data": {
            "text/plain": [
              "Dataset MNIST\n",
              "    Number of datapoints: 10000\n",
              "    Root location: data\n",
              "    Split: Test\n",
              "    StandardTransform\n",
              "Transform: ToTensor()"
            ]
          },
          "metadata": {},
          "execution_count": 6
        }
      ]
    },
    {
      "cell_type": "code",
      "source": [
        "pwd"
      ],
      "metadata": {
        "colab": {
          "base_uri": "https://localhost:8080/",
          "height": 35
        },
        "id": "wWstlvoZaObM",
        "outputId": "dcd6361b-3f8e-439c-bb3e-9d6c85d92701"
      },
      "execution_count": 7,
      "outputs": [
        {
          "output_type": "execute_result",
          "data": {
            "text/plain": [
              "'/content'"
            ],
            "application/vnd.google.colaboratory.intrinsic+json": {
              "type": "string"
            }
          },
          "metadata": {},
          "execution_count": 7
        }
      ]
    },
    {
      "cell_type": "code",
      "source": [
        "ls"
      ],
      "metadata": {
        "colab": {
          "base_uri": "https://localhost:8080/"
        },
        "id": "0xYs76MDaRAK",
        "outputId": "805270cf-bb77-4539-9bec-48fcf88bfcf5"
      },
      "execution_count": 8,
      "outputs": [
        {
          "output_type": "stream",
          "name": "stdout",
          "text": [
            "\u001b[0m\u001b[01;34mdata\u001b[0m/  \u001b[01;34msample_data\u001b[0m/\n"
          ]
        }
      ]
    },
    {
      "cell_type": "code",
      "source": [
        "cd ./data/MNIST/raw/"
      ],
      "metadata": {
        "colab": {
          "base_uri": "https://localhost:8080/"
        },
        "id": "kQYmLpbCaTeg",
        "outputId": "8009868b-c9d9-4f89-f368-1884636779aa"
      },
      "execution_count": 9,
      "outputs": [
        {
          "output_type": "stream",
          "name": "stdout",
          "text": [
            "/content/data/MNIST/raw\n"
          ]
        }
      ]
    },
    {
      "cell_type": "code",
      "source": [
        "ls"
      ],
      "metadata": {
        "colab": {
          "base_uri": "https://localhost:8080/"
        },
        "id": "0kkvITW2aflS",
        "outputId": "f6cac78d-da74-47d8-f6c8-a511b5143b70"
      },
      "execution_count": 10,
      "outputs": [
        {
          "output_type": "stream",
          "name": "stdout",
          "text": [
            "t10k-images-idx3-ubyte     train-images-idx3-ubyte\n",
            "t10k-images-idx3-ubyte.gz  train-images-idx3-ubyte.gz\n",
            "t10k-labels-idx1-ubyte     train-labels-idx1-ubyte\n",
            "t10k-labels-idx1-ubyte.gz  train-labels-idx1-ubyte.gz\n"
          ]
        }
      ]
    },
    {
      "cell_type": "code",
      "source": [
        "train_loader = DataLoader(train_data, batch_size=10, shuffle=True)\n",
        "test_loader = DataLoader(train_data, batch_size=10, shuffle=False)"
      ],
      "metadata": {
        "id": "mHgJWnmBbGIE"
      },
      "execution_count": 11,
      "outputs": []
    },
    {
      "cell_type": "code",
      "source": [
        "# Create model\n",
        "\n",
        "conv1 = nn.Conv2d(in_channels=1, out_channels=6, kernel_size=3, stride=1, padding=1)\n",
        "pool1 = nn.MaxPool2d(kernel_size=2, stride=2)\n",
        "conv2 = nn.Conv2d(in_channels=6, out_channels=16, kernel_size=3, stride=1, padding=1)\n",
        "pool2 = nn.MaxPool2d(kernel_size=2, stride=2)"
      ],
      "metadata": {
        "id": "dZlm6s2tagsd"
      },
      "execution_count": 12,
      "outputs": []
    },
    {
      "cell_type": "code",
      "source": [
        "for images, labels in train_loader:\n",
        "    print(images.shape)\n",
        "    break"
      ],
      "metadata": {
        "colab": {
          "base_uri": "https://localhost:8080/"
        },
        "id": "56Rugk5gcrIS",
        "outputId": "179c7981-bb46-489d-d86d-f61e98fcbb7a"
      },
      "execution_count": 13,
      "outputs": [
        {
          "output_type": "stream",
          "name": "stdout",
          "text": [
            "torch.Size([10, 1, 28, 28])\n"
          ]
        }
      ]
    },
    {
      "cell_type": "code",
      "source": [
        "x = F.relu(conv1(images))\n",
        "x = pool1(x)\n",
        "x = F.relu(conv2(x))\n",
        "x = pool2(x)\n"
      ],
      "metadata": {
        "id": "wrSgzt1Pc-Wl"
      },
      "execution_count": 14,
      "outputs": []
    },
    {
      "cell_type": "code",
      "source": [
        "class Model(nn.Module):\n",
        "  def __init__(self):\n",
        "    super().__init__()\n",
        "    self.conv1 = nn.Conv2d(in_channels=1, out_channels=6, kernel_size=3, stride=1, padding=1)\n",
        "    self.pool1 = nn.MaxPool2d(kernel_size=2, stride=2)\n",
        "    self.conv2 = nn.Conv2d(in_channels=6, out_channels=16, kernel_size=3, stride=1, padding=1)\n",
        "    self.pool2 = nn.MaxPool2d(kernel_size=2, stride=2)\n",
        "    self.fc1 = nn.Linear(in_features=7*7*16, out_features=120)\n",
        "    self.fc2 = nn.Linear(in_features=120, out_features=84)\n",
        "    self.fc3 = nn.Linear(in_features=84, out_features=10)\n",
        "\n",
        "  def forward(self, x):\n",
        "    x = F.relu(self.conv1(x))\n",
        "    x = self.pool1(x)\n",
        "    x = F.relu(self.conv2(x))\n",
        "    x = self.pool2(x)\n",
        "    x = x.reshape(-1, 7*7*16)\n",
        "    x = F.relu(self.fc1(x))\n",
        "    x = F.relu(self.fc2(x))\n",
        "    x = self.fc3(x)\n",
        "    return F.log_softmax(x, dim=1)\n",
        "\n",
        "\n"
      ],
      "metadata": {
        "id": "LLgShmBYdZ41"
      },
      "execution_count": 15,
      "outputs": []
    },
    {
      "cell_type": "code",
      "source": [
        "torch.manual_seed(101)\n",
        "model = Model()\n",
        "model"
      ],
      "metadata": {
        "colab": {
          "base_uri": "https://localhost:8080/"
        },
        "id": "wJaLs1ulgPWb",
        "outputId": "6ace83f9-0bb9-415b-ce51-5c8672abd3a9"
      },
      "execution_count": 16,
      "outputs": [
        {
          "output_type": "execute_result",
          "data": {
            "text/plain": [
              "Model(\n",
              "  (conv1): Conv2d(1, 6, kernel_size=(3, 3), stride=(1, 1), padding=(1, 1))\n",
              "  (pool1): MaxPool2d(kernel_size=2, stride=2, padding=0, dilation=1, ceil_mode=False)\n",
              "  (conv2): Conv2d(6, 16, kernel_size=(3, 3), stride=(1, 1), padding=(1, 1))\n",
              "  (pool2): MaxPool2d(kernel_size=2, stride=2, padding=0, dilation=1, ceil_mode=False)\n",
              "  (fc1): Linear(in_features=784, out_features=120, bias=True)\n",
              "  (fc2): Linear(in_features=120, out_features=84, bias=True)\n",
              "  (fc3): Linear(in_features=84, out_features=10, bias=True)\n",
              ")"
            ]
          },
          "metadata": {},
          "execution_count": 16
        }
      ]
    },
    {
      "cell_type": "code",
      "source": [
        "criterion = nn.CrossEntropyLoss()\n",
        "optimizer = optim.Adam(model.parameters(), lr=0.001)"
      ],
      "metadata": {
        "id": "kLZs1CHzgZVR"
      },
      "execution_count": 17,
      "outputs": []
    },
    {
      "cell_type": "code",
      "source": [
        "import time\n",
        "start_time = time.time()\n",
        "\n",
        "epochs = 5\n",
        "train_losses = []\n",
        "train_correct = []\n",
        "\n",
        "test_losses = []\n",
        "test_correct = []\n",
        "\n",
        "for i in range(epochs):\n",
        "  trn_corr = 0\n",
        "  tst_corr = 0\n",
        "\n",
        "  for b, (X_train, y_train) in enumerate(train_loader):\n",
        "    b+=1\n",
        "\n",
        "    y_pred = model(X_train)\n",
        "    loss = criterion(y_pred, y_train)\n",
        "\n",
        "    predicted = torch.max(y_pred.data, 1)[1]\n",
        "    batch_corr = (predicted == y_train).sum()\n",
        "    trn_corr += batch_corr\n",
        "\n",
        "    optimizer.zero_grad()\n",
        "    loss.backward()\n",
        "    optimizer.step()\n",
        "\n",
        "    if b%1000 == 0:\n",
        "      print(f'epoch: {i}  batch: {b}  loss: {loss.item():.2f}  accuracy: {trn_corr.item()*100/(10*b):.2f}%')\n",
        "\n",
        "    train_losses.append(loss)\n",
        "    train_correct.append(trn_corr)\n",
        "\n",
        "\n",
        "current_time = time.time()\n",
        "print((current_time - start_time)/60, 'minutes')"
      ],
      "metadata": {
        "colab": {
          "base_uri": "https://localhost:8080/"
        },
        "id": "lMqT521mhbfI",
        "outputId": "524c1fa6-9887-4c28-8d7b-de4b9902ce75"
      },
      "execution_count": 18,
      "outputs": [
        {
          "output_type": "stream",
          "name": "stdout",
          "text": [
            "epoch: 0  batch: 1000  loss: 0.05  accuracy: 79.66%\n",
            "epoch: 0  batch: 2000  loss: 0.09  accuracy: 86.98%\n",
            "epoch: 0  batch: 3000  loss: 0.07  accuracy: 89.88%\n",
            "epoch: 0  batch: 4000  loss: 0.22  accuracy: 91.58%\n",
            "epoch: 0  batch: 5000  loss: 0.06  accuracy: 92.65%\n",
            "epoch: 0  batch: 6000  loss: 0.01  accuracy: 93.41%\n",
            "epoch: 1  batch: 1000  loss: 0.00  accuracy: 97.47%\n",
            "epoch: 1  batch: 2000  loss: 0.00  accuracy: 97.71%\n",
            "epoch: 1  batch: 3000  loss: 0.42  accuracy: 97.84%\n",
            "epoch: 1  batch: 4000  loss: 0.14  accuracy: 97.88%\n",
            "epoch: 1  batch: 5000  loss: 0.01  accuracy: 97.98%\n",
            "epoch: 1  batch: 6000  loss: 0.29  accuracy: 98.00%\n",
            "epoch: 2  batch: 1000  loss: 0.00  accuracy: 98.56%\n",
            "epoch: 2  batch: 2000  loss: 0.00  accuracy: 98.47%\n",
            "epoch: 2  batch: 3000  loss: 0.03  accuracy: 98.51%\n",
            "epoch: 2  batch: 4000  loss: 0.29  accuracy: 98.52%\n",
            "epoch: 2  batch: 5000  loss: 0.17  accuracy: 98.51%\n",
            "epoch: 2  batch: 6000  loss: 0.00  accuracy: 98.53%\n",
            "epoch: 3  batch: 1000  loss: 0.01  accuracy: 99.06%\n",
            "epoch: 3  batch: 2000  loss: 0.01  accuracy: 99.00%\n",
            "epoch: 3  batch: 3000  loss: 0.09  accuracy: 98.90%\n",
            "epoch: 3  batch: 4000  loss: 0.05  accuracy: 98.89%\n",
            "epoch: 3  batch: 5000  loss: 0.01  accuracy: 98.89%\n",
            "epoch: 3  batch: 6000  loss: 0.00  accuracy: 98.88%\n",
            "epoch: 4  batch: 1000  loss: 0.00  accuracy: 99.15%\n",
            "epoch: 4  batch: 2000  loss: 0.67  accuracy: 99.06%\n",
            "epoch: 4  batch: 3000  loss: 0.00  accuracy: 99.12%\n",
            "epoch: 4  batch: 4000  loss: 0.00  accuracy: 99.07%\n",
            "epoch: 4  batch: 5000  loss: 0.00  accuracy: 99.07%\n",
            "epoch: 4  batch: 6000  loss: 0.00  accuracy: 99.09%\n",
            "3.612055154641469 minutes\n"
          ]
        }
      ]
    },
    {
      "cell_type": "code",
      "source": [
        "plt.imshow(test_data[0][0].reshape(28, 28), cmap='gray')"
      ],
      "metadata": {
        "id": "64qnptpozSXj",
        "outputId": "e106d7e6-72eb-4bb1-8c14-5ac863495530",
        "colab": {
          "base_uri": "https://localhost:8080/",
          "height": 447
        }
      },
      "execution_count": 21,
      "outputs": [
        {
          "output_type": "execute_result",
          "data": {
            "text/plain": [
              "<matplotlib.image.AxesImage at 0x7a6418e81f50>"
            ]
          },
          "metadata": {},
          "execution_count": 21
        },
        {
          "output_type": "display_data",
          "data": {
            "text/plain": [
              "<Figure size 640x480 with 1 Axes>"
            ],
            "image/png": "[encoded data removed]"
          },
          "metadata": {}
        }
      ]
    },
    {
      "cell_type": "code",
      "source": [
        "plt.imshow(test_data[0][0].reshape(28, 28))"
      ],
      "metadata": {
        "id": "QZ4H_6HOzd3C",
        "outputId": "99ef39b2-7ecf-437e-f6e0-bd27a2951d03",
        "colab": {
          "base_uri": "https://localhost:8080/",
          "height": 447
        }
      },
      "execution_count": 22,
      "outputs": [
        {
          "output_type": "execute_result",
          "data": {
            "text/plain": [
              "<matplotlib.image.AxesImage at 0x7a64190d6a90>"
            ]
          },
          "metadata": {},
          "execution_count": 22
        },
        {
          "output_type": "display_data",
          "data": {
            "text/plain": [
              "<Figure size 640x480 with 1 Axes>"
            ],
            "image/png": "[encoded data removed]"
          },
          "metadata": {}
        }
      ]
    },
    {
      "cell_type": "code",
      "source": [
        "# Test model on unkwon data\n",
        "\n",
        "model.eval()\n",
        "with torch.no_grad():\n",
        "  new_prediction = model(test_data[0][0].view(1, 1, 28, 28))\n",
        "\n",
        "  print(new_prediction.argmax())"
      ],
      "metadata": {
        "colab": {
          "base_uri": "https://localhost:8080/"
        },
        "id": "MHdnjtQ0vyPB",
        "outputId": "1adecf02-9c01-4323-9cac-397596464c55"
      },
      "execution_count": 19,
      "outputs": [
        {
          "output_type": "stream",
          "name": "stdout",
          "text": [
            "tensor(7)\n"
          ]
        }
      ]
    },
    {
      "cell_type": "code",
      "source": [],
      "metadata": {
        "id": "VfpESefEzPPd"
      },
      "execution_count": null,
      "outputs": []
    }
  ]
}